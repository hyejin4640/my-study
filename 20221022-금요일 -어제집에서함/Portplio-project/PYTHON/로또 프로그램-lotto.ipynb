{
 "cells": [
  {
   "cell_type": "code",
   "execution_count": 1,
   "id": "3d82c284",
   "metadata": {
    "id": "3d82c284",
    "outputId": "bd75921d-4819-4e13-ed02-24ae056e5c23"
   },
   "outputs": [
    {
     "name": "stdout",
     "output_type": "stream",
     "text": [
      "[24, 7, 17, 30, 38, 3]\n",
      "[32]\n",
      "[32, 26]\n",
      "[32, 26, 9]\n",
      "[32, 26, 9, 31]\n",
      "[32, 26, 9, 31, 20]\n",
      "[32, 26, 9, 31, 20, 19]\n",
      "[32, 26, 9, 31, 20, 19, 18]\n",
      "[25, 34, 40, 28, 3, 44]\n",
      "[19, 20, 29, 11, 45, 32]\n"
     ]
    },
    {
     "name": "stderr",
     "output_type": "stream",
     "text": [
      "Exception in Tkinter callback\n",
      "Traceback (most recent call last):\n",
      "  File \"C:\\Users\\Dell\\anaconda3\\lib\\tkinter\\__init__.py\", line 1892, in __call__\n",
      "    return self.func(*args)\n",
      "  File \"C:\\Users\\Dell\\AppData\\Local\\Temp\\ipykernel_2684\\3347187657.py\", line 20, in choice\n",
      "    btn_choice_random(random_nums6,r)\n",
      "  File \"C:\\Users\\Dell\\AppData\\Local\\Temp\\ipykernel_2684\\3347187657.py\", line 35, in btn_choice_random\n",
      "    lbl_numbers[r][list[i]].config(bg=\"#ffaaaa\")\n",
      "IndexError: list index out of range\n"
     ]
    },
    {
     "name": "stdout",
     "output_type": "stream",
     "text": [
      "[23, 26, 31, 10, 8, 37]\n",
      "[9, 13, 29, 16, 2, 25]\n",
      "[11, 10, 37, 45, 12, 3]\n"
     ]
    },
    {
     "name": "stderr",
     "output_type": "stream",
     "text": [
      "Exception in Tkinter callback\n",
      "Traceback (most recent call last):\n",
      "  File \"C:\\Users\\Dell\\anaconda3\\lib\\tkinter\\__init__.py\", line 1892, in __call__\n",
      "    return self.func(*args)\n",
      "  File \"C:\\Users\\Dell\\AppData\\Local\\Temp\\ipykernel_2684\\3347187657.py\", line 20, in choice\n",
      "    btn_choice_random(random_nums6,r)\n",
      "  File \"C:\\Users\\Dell\\AppData\\Local\\Temp\\ipykernel_2684\\3347187657.py\", line 35, in btn_choice_random\n",
      "    lbl_numbers[r][list[i]].config(bg=\"#ffaaaa\")\n",
      "IndexError: list index out of range\n"
     ]
    },
    {
     "name": "stdout",
     "output_type": "stream",
     "text": [
      "[13, 20, 28, 32, 4, 39]\n",
      "[13, 10, 39, 20, 27, 24]\n",
      "[45, 27, 18, 15, 22, 20]\n"
     ]
    },
    {
     "name": "stderr",
     "output_type": "stream",
     "text": [
      "Exception in Tkinter callback\n",
      "Traceback (most recent call last):\n",
      "  File \"C:\\Users\\Dell\\anaconda3\\lib\\tkinter\\__init__.py\", line 1892, in __call__\n",
      "    return self.func(*args)\n",
      "  File \"C:\\Users\\Dell\\AppData\\Local\\Temp\\ipykernel_2684\\3347187657.py\", line 20, in choice\n",
      "    btn_choice_random(random_nums6,r)\n",
      "  File \"C:\\Users\\Dell\\AppData\\Local\\Temp\\ipykernel_2684\\3347187657.py\", line 35, in btn_choice_random\n",
      "    lbl_numbers[r][list[i]].config(bg=\"#ffaaaa\")\n",
      "IndexError: list index out of range\n"
     ]
    },
    {
     "name": "stdout",
     "output_type": "stream",
     "text": [
      "[17]\n",
      "[17, 18]\n",
      "[17, 18, 20]\n",
      "[17, 18, 20, 19]\n",
      "[17, 18, 20, 19, 21]\n",
      "[17, 18, 20, 19, 21, 16]\n",
      "[17, 18, 20, 19, 21, 16, 15]\n",
      "[17, 18, 20, 19, 21, 16, 15, 22]\n",
      "[17, 18, 20, 19, 21, 16, 15, 22, 23]\n",
      "[17, 18, 20, 19, 21, 16, 15, 22, 23, 24]\n",
      "[17, 20, 21, 15, 24, 18]\n",
      "[23, 20, 24, 21, 15, 19]\n",
      "[24, 19, 20, 16, 23, 21]\n",
      "[23, 24, 22, 15, 17, 18]\n",
      "[23, 17, 19, 18, 15, 16]\n",
      "[23, 22, 15, 19, 16, 21]\n",
      "[20, 22, 17, 16, 24, 19]\n",
      "[20, 18, 21, 19, 24, 15]\n",
      "[20, 17, 23, 15, 22, 24]\n",
      "[20, 17, 18, 19, 16, 15]\n",
      "[24, 22, 17, 21, 16, 20]\n",
      "[21, 18, 24, 16, 19, 17]\n",
      "[18, 17, 23, 20, 16, 15]\n",
      "[29, 6, 31, 32, 41, 3]\n",
      "[6, 34, 31, 16, 1, 22]\n",
      "[1, 44, 8, 37, 43, 26]\n",
      "[8, 11, 3, 44, 6, 17]\n",
      "[20, 44, 14, 29, 38, 32]\n"
     ]
    }
   ],
   "source": [
    "from tkinter import *\n",
    "import random\n",
    "from functools import partial\n",
    "\n",
    "win = Tk()\n",
    "win.geometry(\"1300x400\")\n",
    "\n",
    "lbl_numbers = [[],[],[],[],[],[]]\n",
    "can_list = []\n",
    "btn_list = []\n",
    "btn = []\n",
    "btn2 =[]\n",
    "choices=[]\n",
    "\n",
    "\n",
    "def choice(r):\n",
    "    if len(choices) < 10:\n",
    "        random_list = list(range(0,46))\n",
    "        random_nums6 = random.sample(random_list,6)\n",
    "        btn_choice_random(random_nums6,r)\n",
    "    else :\n",
    "        random_nums6 = random.sample(choices,6)\n",
    "        btn_choice_random(random_nums6,r)\n",
    "\n",
    "def btn_choice(n):    #버튼 클릭\n",
    "    choices.append(n+1)\n",
    "    btn_list[n].config(bg=\"#ff00ff\")\n",
    "    print(choices)\n",
    "\n",
    "def btn_choice_random(list,r):\n",
    "    print(list)\n",
    "    for i in range(0,45):\n",
    "        lbl_numbers[r][i].config(bg=\"#ffffff\")\n",
    "    for i in range(6):\n",
    "        lbl_numbers[r][list[i]].config(bg=\"#ffaaaa\")  \n",
    "\n",
    "def delete(r):\n",
    "    for i in range(0,45):\n",
    "        lbl_numbers[r][i].config(bg=\"#ffffff\")\n",
    "        btn_list[i].config(bg=\"#d3d3d3\")\n",
    "    choices.clear()\n",
    "    \n",
    "for i in range(6):\n",
    "    can_list.append( Canvas(win, highlightthickness=1, highlightbackground=\"#0000ff\"))\n",
    "    can_list[i].place(x=(i*210)+10,y=10,width=200,height=350)\n",
    "        \n",
    "for r in range(6):\n",
    "    cnt = 0\n",
    "    btn.append(Button(can_list[r], width=13 ,height=3,text=\"자동선택\",command=partial(choice,r)))\n",
    "    btn[r].place(x=10,y=270)\n",
    "    btn2.append(Button(can_list[r], width=6 ,height=3, text=\"취소\",command=partial(delete,r)))\n",
    "    btn2[r].place(x=120,y=270)\n",
    "    for i in range(7):\n",
    "        for k in range(7):\n",
    "            if cnt != 45:\n",
    "                lbl_numbers[r].append(Label(can_list[r], width=2,height=1,text=cnt+1,relief=\"ridge\",bg=\"#ffffff\"))\n",
    "                lbl_numbers[r][cnt].place(x=10+(k*25),y=(30*i)+30)\n",
    "                btn_list.append(Button(can_list[0], width=2,height=1,text=cnt+1,relief=\"ridge\",command=partial(btn_choice,cnt)))\n",
    "                btn_list[cnt].place(x=10+(k*25),y=(30*i)+30)\n",
    "                cnt+=1\n",
    "                \n",
    "\n",
    "choices.clear()                \n",
    "win.mainloop()"
   ]
  }
 ],
 "metadata": {
  "colab": {
   "name": "8_lotto.ipynb",
   "provenance": []
  },
  "kernelspec": {
   "display_name": "Python 3 (ipykernel)",
   "language": "python",
   "name": "python3"
  },
  "language_info": {
   "codemirror_mode": {
    "name": "ipython",
    "version": 3
   },
   "file_extension": ".py",
   "mimetype": "text/x-python",
   "name": "python",
   "nbconvert_exporter": "python",
   "pygments_lexer": "ipython3",
   "version": "3.9.12"
  },
  "toc": {
   "base_numbering": 1,
   "nav_menu": {},
   "number_sections": true,
   "sideBar": true,
   "skip_h1_title": false,
   "title_cell": "Table of Contents",
   "title_sidebar": "Contents",
   "toc_cell": false,
   "toc_position": {},
   "toc_section_display": true,
   "toc_window_display": false
  }
 },
 "nbformat": 4,
 "nbformat_minor": 5
}
